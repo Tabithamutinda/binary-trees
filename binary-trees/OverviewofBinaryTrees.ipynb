{
 "cells": [
  {
   "cell_type": "markdown",
   "id": "46454557-5d55-402e-97c9-42f31c9a0b18",
   "metadata": {},
   "source": [
    "# Overview of Binary Trees\n",
    "## 1. Binary Tree\n",
    "A binary tree is a hierarchical data structure in which each node has at most two children, referred to as the left child and the right child. \n",
    "Binary trees are widely used in various computing applications, such as:\n",
    "\n",
    "## Expression Trees: \n",
    "Used in compilers to represent arithmetic expressions.\n",
    "Hierarchical Data Representation: Used to store hierarchical data, such as file systems and organizational structures.\n",
    "### Binary Heaps: \n",
    "Implemented using binary trees for efficient priority queue operations."
   ]
  },
  {
   "cell_type": "code",
   "execution_count": 3,
   "id": "c4b713a0-e386-49da-bf71-78dd1cdb0ade",
   "metadata": {},
   "outputs": [
    {
     "name": "stdout",
     "output_type": "stream",
     "text": [
      "4 2 5 1 3 "
     ]
    }
   ],
   "source": [
    "class BinaryTreeNode:\n",
    "    def __init__(self, data):\n",
    "        self.data = data\n",
    "        self.left = None\n",
    "        self.right = None\n",
    "\n",
    "def insert_left(node, new_node):\n",
    "    node.left = new_node\n",
    "\n",
    "def insert_right(node, new_node):\n",
    "    node.right = new_node\n",
    "\n",
    "# Example of usage\n",
    "root = BinaryTreeNode(1)\n",
    "root.left = BinaryTreeNode(2)\n",
    "root.right = BinaryTreeNode(3)\n",
    "root.left.left = BinaryTreeNode(4)\n",
    "root.left.right = BinaryTreeNode(5)\n",
    "\n",
    "# Traversing the tree (Inorder Traversal)\n",
    "def inorder_traversal(root):\n",
    "    if root:\n",
    "        inorder_traversal(root.left)\n",
    "        print(root.data, end=' ')\n",
    "        inorder_traversal(root.right)\n",
    "\n",
    "inorder_traversal(root)"
   ]
  },
  {
   "cell_type": "markdown",
   "id": "3d078804-9504-4501-b9a4-1332f6e35ce0",
   "metadata": {},
   "source": [
    "## 2. Binary Search Tree (BST)\n",
    "A Binary Search Tree is a binary tree with the following properties:\n",
    "\n",
    "The left subtree of a node contains only nodes with keys less than the node's key.\n",
    "\n",
    "The right subtree contains only nodes with keys greater than the node's key.\n",
    "\n",
    "Both the left and right subtrees are also binary search trees.\n",
    "\n",
    "## Applications of BST:\n",
    "\n",
    "#### Efficient Searching: \n",
    "BSTs allow for efficient searching, insertion, and deletion operations with an average time complexity of O(log n).\n",
    "\n",
    "#### Database Indexing: \n",
    "Used in databases to efficiently manage data retrieval."
   ]
  },
  {
   "cell_type": "code",
   "execution_count": 6,
   "id": "46909a22-daac-4063-859b-f16109c5ed40",
   "metadata": {},
   "outputs": [
    {
     "name": "stdout",
     "output_type": "stream",
     "text": [
      "20 30 40 50 60 70 80 "
     ]
    }
   ],
   "source": [
    "class BSTNode:\n",
    "    def __init__(self, key):\n",
    "        self.left = None\n",
    "        self.right = None\n",
    "        self.val = key\n",
    "\n",
    "def insert_bst(root, key):\n",
    "    if root is None:\n",
    "        return BSTNode(key)\n",
    "    else:\n",
    "        if key < root.val:\n",
    "            root.left = insert_bst(root.left, key)\n",
    "        else:\n",
    "            root.right = insert_bst(root.right, key)\n",
    "    return root\n",
    "\n",
    "def inorder_bst(root):\n",
    "    if root:\n",
    "        inorder_bst(root.left)\n",
    "        print(root.val, end=' ')\n",
    "        inorder_bst(root.right)\n",
    "\n",
    "# Example of usage\n",
    "bst_root = BSTNode(50)\n",
    "insert_bst(bst_root, 30)\n",
    "insert_bst(bst_root, 20)\n",
    "insert_bst(bst_root, 40)\n",
    "insert_bst(bst_root, 70)\n",
    "insert_bst(bst_root, 60)\n",
    "insert_bst(bst_root, 80)\n",
    "\n",
    "inorder_bst(bst_root)"
   ]
  },
  {
   "cell_type": "markdown",
   "id": "e4bea245-d95a-4eb5-a17e-5aa1366abc22",
   "metadata": {},
   "source": [
    "## 3. AVL Tree\n",
    "An AVL tree is a self-balancing Binary Search Tree where the difference in heights between the left and right subtrees (called the balance factor) is at most 1 for all nodes. \n",
    "\n",
    "This self-balancing property ensures that the tree remains balanced, leading to O(log n) time complexity for search, insertion, and deletion operations.\n",
    "\n",
    "## Applications of AVL Trees:\n",
    "\n",
    "Memory Management: AVL trees are used in memory management algorithms for quick allocation and deallocation of memory blocks.\n",
    "\n",
    "Database Systems: Used in database indexing to maintain balanced search trees for efficient data access."
   ]
  },
  {
   "cell_type": "code",
   "execution_count": 9,
   "id": "37c2803b-b8e7-4980-bb05-98ae60cf379b",
   "metadata": {},
   "outputs": [
    {
     "name": "stdout",
     "output_type": "stream",
     "text": [
      "10 20 25 30 40 50 "
     ]
    }
   ],
   "source": [
    "class AVLNode:\n",
    "    def __init__(self, key):\n",
    "        self.left = None\n",
    "        self.right = None\n",
    "        self.val = key\n",
    "        self.height = 1\n",
    "\n",
    "def get_height(node):\n",
    "    if not node:\n",
    "        return 0\n",
    "    return node.height\n",
    "\n",
    "def get_balance(node):\n",
    "    if not node:\n",
    "        return 0\n",
    "    return get_height(node.left) - get_height(node.right)\n",
    "\n",
    "def right_rotate(y):\n",
    "    x = y.left\n",
    "    T2 = x.right\n",
    "\n",
    "    x.right = y\n",
    "    y.left = T2\n",
    "\n",
    "    y.height = 1 + max(get_height(y.left), get_height(y.right))\n",
    "    x.height = 1 + max(get_height(x.left), get_height(x.right))\n",
    "\n",
    "    return x\n",
    "\n",
    "def left_rotate(x):\n",
    "    y = x.right\n",
    "    T2 = y.left\n",
    "\n",
    "    y.left = x\n",
    "    x.right = T2\n",
    "\n",
    "    x.height = 1 + max(get_height(x.left), get_height(x.right))\n",
    "    y.height = 1 + max(get_height(y.left), get_height(y.right))\n",
    "\n",
    "    return y\n",
    "\n",
    "def insert_avl(root, key):\n",
    "    if not root:\n",
    "        return AVLNode(key)\n",
    "    elif key < root.val:\n",
    "        root.left = insert_avl(root.left, key)\n",
    "    else:\n",
    "        root.right = insert_avl(root.right, key)\n",
    "\n",
    "    root.height = 1 + max(get_height(root.left), get_height(root.right))\n",
    "\n",
    "    balance = get_balance(root)\n",
    "\n",
    "    if balance > 1 and key < root.left.val:\n",
    "        return right_rotate(root)\n",
    "\n",
    "    if balance < -1 and key > root.right.val:\n",
    "        return left_rotate(root)\n",
    "\n",
    "    if balance > 1 and key > root.left.val:\n",
    "        root.left = left_rotate(root.left)\n",
    "        return right_rotate(root)\n",
    "\n",
    "    if balance < -1 and key < root.right.val:\n",
    "        root.right = right_rotate(root.right)\n",
    "        return left_rotate(root)\n",
    "\n",
    "    return root\n",
    "\n",
    "def inorder_avl(root):\n",
    "    if root:\n",
    "        inorder_avl(root.left)\n",
    "        print(root.val, end=' ')\n",
    "        inorder_avl(root.right)\n",
    "\n",
    "# Example of usage\n",
    "avl_root = None\n",
    "keys = [10, 20, 30, 40, 50, 25]\n",
    "\n",
    "for key in keys:\n",
    "    avl_root = insert_avl(avl_root, key)\n",
    "\n",
    "inorder_avl(avl_root)\n"
   ]
  },
  {
   "cell_type": "code",
   "execution_count": null,
   "id": "81986457-82ff-4a9d-919d-101a85a49a13",
   "metadata": {},
   "outputs": [],
   "source": []
  }
 ],
 "metadata": {
  "kernelspec": {
   "display_name": "Python 3 (ipykernel)",
   "language": "python",
   "name": "python3"
  },
  "language_info": {
   "codemirror_mode": {
    "name": "ipython",
    "version": 3
   },
   "file_extension": ".py",
   "mimetype": "text/x-python",
   "name": "python",
   "nbconvert_exporter": "python",
   "pygments_lexer": "ipython3",
   "version": "3.12.4"
  }
 },
 "nbformat": 4,
 "nbformat_minor": 5
}
